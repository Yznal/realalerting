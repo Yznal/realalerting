{
 "cells": [
  {
   "cell_type": "code",
   "execution_count": 1,
   "id": "d76ae5a3",
   "metadata": {},
   "outputs": [],
   "source": [
    "#! pip install pandas\n",
    "\n",
    "import re\n",
    "import pandas as pd"
   ]
  },
  {
   "cell_type": "code",
   "execution_count": 2,
   "id": "d985569b",
   "metadata": {},
   "outputs": [],
   "source": [
    "def parse_log(filename, limit_n_rows=None):\n",
    "    statistics_regexp = re.compile(r\".*<<\\{(\\d+),\\s+(\\d+.\\d*),\\s(\\d+)}>>.*\")\n",
    "    statistics = {'id':[], 'value':[], 'nano_delta':[]}\n",
    "    \n",
    "    with open(f'./resources/{filename}', 'r') as log_file:\n",
    "        line = log_file.readline()\n",
    "        while line:\n",
    "            groups = re.search(statistics_regexp, line)\n",
    "            if groups:\n",
    "                _id, value, nano_delta = groups.groups()\n",
    "                statistics['id'].append(_id)\n",
    "                statistics['value'].append(value)\n",
    "                statistics['nano_delta'].append(nano_delta)\n",
    "            line = log_file.readline()\n",
    "    \n",
    "    df_statistics = pd.DataFrame.from_dict(statistics).astype({'id': int, 'value': float, 'nano_delta': int})\n",
    "    df_statistics[\"micro_delta\"] = df_statistics[\"nano_delta\"] / 1e3\n",
    "    \n",
    "    if limit_n_rows:\n",
    "        df_statistics = df_statistics.head(limit_n_rows) \n",
    "    \n",
    "    return df_statistics"
   ]
  },
  {
   "cell_type": "code",
   "execution_count": 3,
   "id": "12bc871f",
   "metadata": {},
   "outputs": [],
   "source": [
    "runs = {}"
   ]
  },
  {
   "cell_type": "code",
   "execution_count": 4,
   "id": "867f1896",
   "metadata": {},
   "outputs": [],
   "source": [
    "runs[\"1m runs, 2 VMs, UDP\"] = parse_log(\"run._two_sep_vms.log\", 1_000_000)"
   ]
  },
  {
   "cell_type": "code",
   "execution_count": 5,
   "id": "83c2af6c",
   "metadata": {},
   "outputs": [],
   "source": [
    "runs[\"1m runs, 1 VMs, UDP\"] = parse_log(\"run.one_vm_udp.log\", 1_000_000)"
   ]
  },
  {
   "cell_type": "code",
   "execution_count": 6,
   "id": "f9c1829e",
   "metadata": {},
   "outputs": [],
   "source": [
    "runs[\"1m runs, 1 VMs, IPC\"] = parse_log(\"run.one_vm_ipc.log\", 1_000_000)"
   ]
  },
  {
   "cell_type": "code",
   "execution_count": 7,
   "id": "d88d931c",
   "metadata": {},
   "outputs": [
    {
     "data": {
      "text/html": [
       "<div>\n",
       "<style scoped>\n",
       "    .dataframe tbody tr th:only-of-type {\n",
       "        vertical-align: middle;\n",
       "    }\n",
       "\n",
       "    .dataframe tbody tr th {\n",
       "        vertical-align: top;\n",
       "    }\n",
       "\n",
       "    .dataframe thead th {\n",
       "        text-align: right;\n",
       "    }\n",
       "</style>\n",
       "<table border=\"1\" class=\"dataframe\">\n",
       "  <thead>\n",
       "    <tr style=\"text-align: right;\">\n",
       "      <th></th>\n",
       "      <th>name</th>\n",
       "      <th>alerts_received</th>\n",
       "      <th>fastest</th>\n",
       "      <th>0.5q</th>\n",
       "      <th>0.9q</th>\n",
       "      <th>0.95q</th>\n",
       "      <th>0.99q</th>\n",
       "      <th>slowest</th>\n",
       "      <th>average</th>\n",
       "    </tr>\n",
       "  </thead>\n",
       "  <tbody>\n",
       "    <tr>\n",
       "      <th>0</th>\n",
       "      <td>1m runs, 2 VMs, UDP</td>\n",
       "      <td>1000000</td>\n",
       "      <td>220.843</td>\n",
       "      <td>1402.4430</td>\n",
       "      <td>2201.4477</td>\n",
       "      <td>2418.18520</td>\n",
       "      <td>2879.53944</td>\n",
       "      <td>23480.850</td>\n",
       "      <td>1470.601292</td>\n",
       "    </tr>\n",
       "    <tr>\n",
       "      <th>1</th>\n",
       "      <td>1m runs, 1 VMs, UDP</td>\n",
       "      <td>1000000</td>\n",
       "      <td>98.370</td>\n",
       "      <td>1276.2855</td>\n",
       "      <td>2274.5690</td>\n",
       "      <td>2511.18420</td>\n",
       "      <td>3201.68512</td>\n",
       "      <td>23693.544</td>\n",
       "      <td>1402.269281</td>\n",
       "    </tr>\n",
       "    <tr>\n",
       "      <th>2</th>\n",
       "      <td>1m runs, 1 VMs, IPC</td>\n",
       "      <td>1000000</td>\n",
       "      <td>7.538</td>\n",
       "      <td>520.0455</td>\n",
       "      <td>991.1941</td>\n",
       "      <td>1046.27405</td>\n",
       "      <td>1096.41008</td>\n",
       "      <td>11327.798</td>\n",
       "      <td>532.653113</td>\n",
       "    </tr>\n",
       "  </tbody>\n",
       "</table>\n",
       "</div>"
      ],
      "text/plain": [
       "                  name  alerts_received  fastest       0.5q       0.9q  \\\n",
       "0  1m runs, 2 VMs, UDP          1000000  220.843  1402.4430  2201.4477   \n",
       "1  1m runs, 1 VMs, UDP          1000000   98.370  1276.2855  2274.5690   \n",
       "2  1m runs, 1 VMs, IPC          1000000    7.538   520.0455   991.1941   \n",
       "\n",
       "        0.95q       0.99q    slowest      average  \n",
       "0  2418.18520  2879.53944  23480.850  1470.601292  \n",
       "1  2511.18420  3201.68512  23693.544  1402.269281  \n",
       "2  1046.27405  1096.41008  11327.798   532.653113  "
      ]
     },
     "execution_count": 7,
     "metadata": {},
     "output_type": "execute_result"
    }
   ],
   "source": [
    "overall_stats = {'name':[], 'alerts_received':[], 'fastest':[], '0.5q':[],'0.9q':[],'0.95q':[],'0.99q':[],'slowest':[], 'average':[]}\n",
    "for _name, stats in runs.items():\n",
    "    _df = stats[[\"micro_delta\"]]\n",
    "    overall_stats['name'].append(_name)\n",
    "    overall_stats['alerts_received'].append(len(_df))\n",
    "    overall_stats['fastest'].append(_df.min().iloc[0])\n",
    "    overall_stats['0.5q'].append(_df.quantile(0.5).iloc[0])\n",
    "    overall_stats['0.9q'].append(_df.quantile(0.9).iloc[0])\n",
    "    overall_stats['0.95q'].append(_df.quantile(0.95).iloc[0])\n",
    "    overall_stats['0.99q'].append(_df.quantile(0.99).iloc[0])\n",
    "    overall_stats['slowest'].append(_df.max().iloc[0])\n",
    "    overall_stats['average'].append(_df.mean().iloc[0])\n",
    "\n",
    "df_overall_stats = pd.DataFrame.from_dict(overall_stats)\n",
    "df_overall_stats"
   ]
  },
  {
   "cell_type": "code",
   "execution_count": null,
   "id": "bed21e82",
   "metadata": {},
   "outputs": [],
   "source": []
  }
 ],
 "metadata": {
  "kernelspec": {
   "display_name": "Python 3 (ipykernel)",
   "language": "python",
   "name": "python3"
  },
  "language_info": {
   "codemirror_mode": {
    "name": "ipython",
    "version": 3
   },
   "file_extension": ".py",
   "mimetype": "text/x-python",
   "name": "python",
   "nbconvert_exporter": "python",
   "pygments_lexer": "ipython3",
   "version": "3.9.15"
  }
 },
 "nbformat": 4,
 "nbformat_minor": 5
}
