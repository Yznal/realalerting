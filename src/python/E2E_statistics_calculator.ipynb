{
 "cells": [
  {
   "cell_type": "code",
   "execution_count": 1,
   "id": "d76ae5a3",
   "metadata": {},
   "outputs": [],
   "source": [
    "#! pip install pandas\n",
    "\n",
    "import re\n",
    "import pandas as pd"
   ]
  },
  {
   "cell_type": "code",
   "execution_count": 2,
   "id": "d985569b",
   "metadata": {},
   "outputs": [],
   "source": [
    "statistics_template = {'id':[], 'value':[], 'nano_delta':[]}\n",
    "\n",
    "\n",
    "def parse_log(filename):\n",
    "    statistics_regexp = re.compile(r\".*<<\\{(\\d+),\\s+(\\d+.\\d*),\\s(\\d+)}>>.*\")\n",
    "    statistics = statistics_template.copy()\n",
    "    \n",
    "    with open(f'./resources/{filename}', 'r') as log_file:\n",
    "        line = log_file.readline()\n",
    "        while line:\n",
    "            groups = re.search(statistics_regexp, line)\n",
    "            if groups:\n",
    "                _id, value, nano_delta = groups.groups()\n",
    "                statistics['id'].append(_id)\n",
    "                statistics['value'].append(value)\n",
    "                statistics['nano_delta'].append(nano_delta)\n",
    "            line = log_file.readline()\n",
    "    \n",
    "    df_statistics = pd.DataFrame.from_dict(statistics).astype({'id': int, 'value': float, 'nano_delta': int})\n",
    "    df_statistics[\"micro_delta\"] = df_statistics[\"nano_delta\"] // 1e3\n",
    "    return df_statistics"
   ]
  },
  {
   "cell_type": "code",
   "execution_count": 3,
   "id": "12bc871f",
   "metadata": {},
   "outputs": [],
   "source": [
    "runs = {\n",
    "    \"first try\": parse_log(\"first_try.txt\")\n",
    "}"
   ]
  },
  {
   "cell_type": "code",
   "execution_count": 4,
   "id": "867f1896",
   "metadata": {},
   "outputs": [],
   "source": [
    "runs[\"1m runs\"] = parse_log(\"1million.txt\")"
   ]
  },
  {
   "cell_type": "code",
   "execution_count": 5,
   "id": "d88d931c",
   "metadata": {},
   "outputs": [
    {
     "data": {
      "text/html": [
       "<div>\n",
       "<style scoped>\n",
       "    .dataframe tbody tr th:only-of-type {\n",
       "        vertical-align: middle;\n",
       "    }\n",
       "\n",
       "    .dataframe tbody tr th {\n",
       "        vertical-align: top;\n",
       "    }\n",
       "\n",
       "    .dataframe thead th {\n",
       "        text-align: right;\n",
       "    }\n",
       "</style>\n",
       "<table border=\"1\" class=\"dataframe\">\n",
       "  <thead>\n",
       "    <tr style=\"text-align: right;\">\n",
       "      <th></th>\n",
       "      <th>name</th>\n",
       "      <th>alerts_received</th>\n",
       "      <th>fastest</th>\n",
       "      <th>0.5q</th>\n",
       "      <th>0.9q</th>\n",
       "      <th>0.95q</th>\n",
       "      <th>0.99q</th>\n",
       "      <th>slowest</th>\n",
       "    </tr>\n",
       "  </thead>\n",
       "  <tbody>\n",
       "    <tr>\n",
       "      <th>0</th>\n",
       "      <td>first try</td>\n",
       "      <td>8653</td>\n",
       "      <td>667.0</td>\n",
       "      <td>2996.0</td>\n",
       "      <td>3877.8</td>\n",
       "      <td>4109.0</td>\n",
       "      <td>4615.0</td>\n",
       "      <td>21341.0</td>\n",
       "    </tr>\n",
       "    <tr>\n",
       "      <th>1</th>\n",
       "      <td>1m runs</td>\n",
       "      <td>443810</td>\n",
       "      <td>224.0</td>\n",
       "      <td>1662.0</td>\n",
       "      <td>2564.0</td>\n",
       "      <td>2839.0</td>\n",
       "      <td>3535.0</td>\n",
       "      <td>21341.0</td>\n",
       "    </tr>\n",
       "  </tbody>\n",
       "</table>\n",
       "</div>"
      ],
      "text/plain": [
       "        name  alerts_received  fastest    0.5q    0.9q   0.95q   0.99q  \\\n",
       "0  first try             8653    667.0  2996.0  3877.8  4109.0  4615.0   \n",
       "1    1m runs           443810    224.0  1662.0  2564.0  2839.0  3535.0   \n",
       "\n",
       "   slowest  \n",
       "0  21341.0  \n",
       "1  21341.0  "
      ]
     },
     "execution_count": 5,
     "metadata": {},
     "output_type": "execute_result"
    }
   ],
   "source": [
    "overall_stats = {'name':[], 'alerts_received':[], 'fastest':[], '0.5q':[],'0.9q':[],'0.95q':[],'0.99q':[],'slowest':[]}\n",
    "for _name, stats in runs.items():\n",
    "    _df = stats[[\"micro_delta\"]]\n",
    "    overall_stats['name'].append(_name)\n",
    "    overall_stats['alerts_received'].append(len(_df))\n",
    "    overall_stats['fastest'].append(_df.min().iloc[0])\n",
    "    overall_stats['0.5q'].append(_df.quantile(0.5).iloc[0])\n",
    "    overall_stats['0.9q'].append(_df.quantile(0.9).iloc[0])\n",
    "    overall_stats['0.95q'].append(_df.quantile(0.95).iloc[0])\n",
    "    overall_stats['0.99q'].append(_df.quantile(0.99).iloc[0])\n",
    "    overall_stats['slowest'].append(_df.max().iloc[0])\n",
    "pd.DataFrame.from_dict(overall_stats)"
   ]
  }
 ],
 "metadata": {
  "kernelspec": {
   "display_name": "Python 3 (ipykernel)",
   "language": "python",
   "name": "python3"
  },
  "language_info": {
   "codemirror_mode": {
    "name": "ipython",
    "version": 3
   },
   "file_extension": ".py",
   "mimetype": "text/x-python",
   "name": "python",
   "nbconvert_exporter": "python",
   "pygments_lexer": "ipython3",
   "version": "3.9.15"
  }
 },
 "nbformat": 4,
 "nbformat_minor": 5
}
